{
 "cells": [
  {
   "cell_type": "markdown",
   "id": "6144f4dc-9e8a-494e-8c40-76116c50928c",
   "metadata": {
    "jp-MarkdownHeadingCollapsed": true,
    "tags": []
   },
   "source": [
    "# Import Libraries"
   ]
  },
  {
   "cell_type": "code",
   "execution_count": 3,
   "id": "7413ca0f-c4b7-4dbc-aa74-7748514d4248",
   "metadata": {
    "execution": {
     "iopub.execute_input": "2023-05-22T00:20:14.560321Z",
     "iopub.status.busy": "2023-05-22T00:20:14.560321Z",
     "iopub.status.idle": "2023-05-22T00:20:14.640287Z",
     "shell.execute_reply": "2023-05-22T00:20:14.640287Z",
     "shell.execute_reply.started": "2023-05-22T00:20:14.560321Z"
    },
    "tags": []
   },
   "outputs": [],
   "source": [
    "import pandas as pd\n",
    "import numpy as np\n",
    "import matplotlib.pyplot as plt\n",
    "import seaborn as sns\n",
    "import warnings\n",
    "from sklearn.feature_selection import SelectKBest\n",
    "from sklearn.linear_model import Ridge\n",
    "from sklearn.model_selection import train_test_split\n",
    "from sklearn.preprocessing import StandardScaler\n",
    "from sklearn.preprocessing import MinMaxScaler\n",
    "from sklearn.preprocessing import OneHotEncoder\n",
    "from sklearn.preprocessing import OrdinalEncoder\n",
    "from sklearn.impute import SimpleImputer\n",
    "from sklearn import preprocessing\n",
    "import datetime as dt\n",
    "from numpy.random import randn\n",
    "from numpy.random import seed\n",
    "from scipy.stats import pearsonr\n",
    "from sklearn.linear_model import LogisticRegression\n",
    "from sklearn.feature_selection import f_classif\n",
    "from sklearn.linear_model import LinearRegression\n",
    "from sklearn.preprocessing import PolynomialFeatures\n",
    "from sklearn.feature_selection import VarianceThreshold\n",
    "from sklearn import metrics\n",
    "from sklearn import linear_model\n",
    "from sklearn.metrics import accuracy_score, classification_report\n",
    "from sklearn.metrics import r2_score\n",
    "from sklearn.metrics import mean_squared_error\n",
    "from sklearn.linear_model import Lasso\n",
    "from sklearn.linear_model import Ridge\n",
    "import time\n",
    "import os\n",
    "import joblib\n",
    "from sklearn.model_selection import GridSearchCV\n",
    "from sklearn.ensemble import RandomForestClassifier\n",
    "\n",
    "\n",
    "# Read The Data\n",
    "data = pd.read_csv('hotel-classification-dataset.csv')\n",
    "\n",
    "# set X & Y\n",
    "y = data.iloc[:, 16]\n",
    "x = data.iloc[:, 0:16]"
   ]
  },
  {
   "cell_type": "markdown",
   "id": "b192f31e-85cf-49f4-9acd-1e4435d19b24",
   "metadata": {
    "jp-MarkdownHeadingCollapsed": true,
    "tags": []
   },
   "source": [
    "# Split Train_Test & Sentiment Analysis"
   ]
  },
  {
   "cell_type": "code",
   "execution_count": 5,
   "id": "bed0a2b6-4a4a-4e7b-b843-f8d762b8ee44",
   "metadata": {
    "execution": {
     "iopub.execute_input": "2023-05-22T00:20:14.793038Z",
     "iopub.status.busy": "2023-05-22T00:20:14.793038Z",
     "iopub.status.idle": "2023-05-22T00:20:15.265592Z",
     "shell.execute_reply": "2023-05-22T00:20:15.265592Z",
     "shell.execute_reply.started": "2023-05-22T00:20:14.793038Z"
    }
   },
   "outputs": [],
   "source": [
    "X_train, X_test, y_train, y_test = train_test_split(x,y, test_size=0.2, random_state=42)\n",
    "\n",
    "from textblob import TextBlob\n",
    "\n",
    "# Define a function to analyze the sentiment of a sentence\n",
    "def get_sentiment(sentence):\n",
    "    blob = TextBlob(sentence)\n",
    "    return blob.sentiment.polarity\n",
    "\n",
    "# Apply the sentiment analysis function to each row in the positive and negative columns\n",
    "def apply_sentiment(data):\n",
    "    data['positive_sentiment'] = data['Positive_Review'].apply(get_sentiment)\n",
    "    data['negative_sentiment'] = data['Negative_Review'].apply(get_sentiment)\n",
    "    return data"
   ]
  },
  {
   "cell_type": "markdown",
   "id": "7a0b50b1-c008-411a-8b07-3ee675ab8d7e",
   "metadata": {
    "jp-MarkdownHeadingCollapsed": true,
    "tags": []
   },
   "source": [
    "# Preprocessing"
   ]
  },
  {
   "cell_type": "markdown",
   "id": "594562d2-767a-4688-a028-b0d30013e490",
   "metadata": {
    "jp-MarkdownHeadingCollapsed": true,
    "tags": []
   },
   "source": [
    "## Missing Values & Encoding"
   ]
  },
  {
   "cell_type": "code",
   "execution_count": 13,
   "id": "c5d7669e-fc62-4238-9498-b50b1c1c8715",
   "metadata": {
    "execution": {
     "iopub.execute_input": "2023-05-22T00:20:15.386537Z",
     "iopub.status.busy": "2023-05-22T00:20:15.386537Z",
     "iopub.status.idle": "2023-05-22T00:20:15.412856Z",
     "shell.execute_reply": "2023-05-22T00:20:15.411818Z",
     "shell.execute_reply.started": "2023-05-22T00:20:15.386537Z"
    }
   },
   "outputs": [],
   "source": [
    "def split_Review_Date(data):\n",
    "    # split Review_Date\n",
    "    # df = pd.DataFrame()\n",
    "    data['Review_Date'] = pd.to_datetime(data['Review_Date'])\n",
    "    data['Year'] = data['Review_Date'].dt.year\n",
    "    data['Month'] = data['Review_Date'].dt.month\n",
    "    data['Day'] = data['Review_Date'].dt.day\n",
    "    data = data.drop([\"Review_Date\"], axis=1)\n",
    "    return data\n",
    "\n",
    "def split_Tags_days_since(data):\n",
    "    # split Tags\n",
    "    Trip = []\n",
    "    Members = []\n",
    "    Room_Kind = []\n",
    "    Nights = []\n",
    "    the_way_of_submission = []\n",
    "    Tags = list(data['Tags'])\n",
    "    tag = []\n",
    "    days = list(data['days_since_review'])\n",
    "    days_final = []\n",
    "    for i in range(len(Tags)):\n",
    "        Tags[i] = Tags[i].replace(\"[\", \"\")\n",
    "        Tags[i] = Tags[i].replace(\"]\", \"\")\n",
    "        Tags[i] = Tags[i].replace(\"'\", \"\")\n",
    "        tag.append(Tags[i].split(\",\"))\n",
    "        # clean days_since review\n",
    "        days[i] = str(days[i]).replace(\"days\", \"\")\n",
    "        days[i] = str(days[i]).replace(\"day\", \"\")\n",
    "        days_final.append(int(days[i]))\n",
    "    for j in tag:\n",
    "        trip = False\n",
    "        mem = False\n",
    "        room = False\n",
    "        night = False\n",
    "        submission = False\n",
    "        for k in j:\n",
    "            if k.__contains__(\"trip\"):\n",
    "                Trip.append(k)\n",
    "                trip = True\n",
    "            elif k.__contains__('room') or k.__contains__('Room'):\n",
    "                Room_Kind.append(k)\n",
    "                room = True\n",
    "            elif (k.__contains__('Stayed')):\n",
    "                result = ''.join(char for char in k if char.isdigit())\n",
    "                Nights.append(int(result))\n",
    "                night = True\n",
    "            elif k.__contains__('Submitted'):\n",
    "                the_way_of_submission.append(k)\n",
    "                submission = True\n",
    "            elif k.__contains__('Couple') or k.__contains__('Group') or k.__contains__('children') or k.__contains__(\n",
    "                    'traveler'):\n",
    "                Members.append(k)\n",
    "                mem = True\n",
    "        if not trip:\n",
    "            Trip.append('no trip')\n",
    "        if not room:\n",
    "            Room_Kind.append('no room')\n",
    "        if not night:\n",
    "            Nights.append(0)\n",
    "        if not submission:\n",
    "            the_way_of_submission.append('not Submitted')\n",
    "        if not mem:\n",
    "            Members.append('no one')\n",
    "    data['Trip'] = Trip\n",
    "    data['Members'] = Members\n",
    "    data['Room'] = Room_Kind\n",
    "    data['Nights'] = Nights\n",
    "    data['Submission'] = the_way_of_submission\n",
    "    data = data.drop(['Tags'], axis=1)\n",
    "    data['days_since_review'] = days_final\n",
    "    return data\n",
    "\n",
    "def data_cleaning_X_Train(X_train):\n",
    "\n",
    "    X_train['Positive_Review'] = X_train['Positive_Review'].replace('No Positive', np.nan)\n",
    "    X_train['Negative_Review'] = X_train['Negative_Review'].replace('No Negative', np.nan)\n",
    "\n",
    "    # drop columns with all nan values\n",
    "    X_train = X_train.dropna(axis=1, how=\"all\")\n",
    "    \n",
    "    \n",
    "\n",
    "    mean_list = []\n",
    "    mean_list.append(X_train['Average_Score'].mean())\n",
    "    mean_list.append(X_train['Total_Number_of_Reviews'].mean())  # ask\n",
    "    mean_list.append(X_train['lat'].mean())\n",
    "    mean_list.append(X_train['lng'].mean())\n",
    "    \n",
    "    # data with filling missing values (X_train)\n",
    "    X_train = X_train.fillna({'Hotel_Address': 'no address', 'Additional_Number_of_Scoring': 0.0,\n",
    "                              'Review_Date': \"00/00/0000\", 'Average_Score': mean_list[0], 'Hotel_Name': 'no name',\n",
    "                              'Reviewer_Nationality': 'no info', 'Negative_Review': 'positive',\n",
    "                              'Review_Total_Negative_Word_Counts': 0.0, 'Total_Number_of_Reviews': mean_list[1],\n",
    "                              'Positive_Review': 'negative', 'Review_Total_Positive_Word_Counts': 0.0,\n",
    "                              'Total_Number_of_Reviews_Reviewer_Has_Given': 0.0,\n",
    "                              'Tags': \"[' no trip ', ' no ', ' no Room ', ' 0 nights ', 'not Submitted']\",\n",
    "                              'days_since_review': '0 day', 'lat': mean_list[2], 'lng': mean_list[3]}) #, 'Reviewer_Score': 0.0})\n",
    "\n",
    "\n",
    "    # split Review_Date\n",
    "    X_train = split_Review_Date(X_train) # For X_train\n",
    "    \n",
    "    # split Tags\n",
    "    X_train = split_Tags_days_since(X_train) # For X_train\n",
    "    \n",
    "    return X_train,mean_list\n",
    "\n",
    "def data_cleaning_X_Test(X_test,mean_list):\n",
    "\n",
    "    X_test['Positive_Review'] = X_test['Positive_Review'].replace('No Positive', np.nan)\n",
    "    X_test['Negative_Review'] = X_test['Negative_Review'].replace('No Negative', np.nan)\n",
    "    \n",
    "    # drop columns with all nan values\n",
    "    X_test = X_test.dropna(axis=1, how=\"all\")\n",
    "    \n",
    "    # data with filling missing values (X_test)\n",
    "    X_test = X_test.fillna({'Hotel_Address': 'no address', 'Additional_Number_of_Scoring': 0.0,\n",
    "                            'Review_Date': \"00/00/0000\", 'Average_Score': mean_list[0], 'Hotel_Name': 'no name',\n",
    "                            'Reviewer_Nationality': 'no info', 'Negative_Review': 'positive',\n",
    "                            'Review_Total_Negative_Word_Counts': 0.0, 'Total_Number_of_Reviews': mean_list[1],\n",
    "                            'Positive_Review': 'negative', 'Review_Total_Positive_Word_Counts': 0.0,\n",
    "                            'Total_Number_of_Reviews_Reviewer_Has_Given': 0.0,\n",
    "                            'Tags': \"[' no trip ', ' no ', ' no Room ', ' 0 nights ', 'not Submitted']\",\n",
    "                            'days_since_review': '0 day', 'lat': mean_list[2], 'lng': mean_list[3]}) #, 'Reviewer_Score': 0.0})\n",
    "\n",
    "\n",
    "    # split Review_Date\n",
    "    X_test = split_Review_Date(X_test) # For X_train\n",
    "    \n",
    "    # split Tags\n",
    "    X_test = split_Tags_days_since(X_test) # For X_train\n",
    "    \n",
    "    return X_test\n",
    "\n",
    "# Handle The Missing Values In The Reviewer_Score With Tec: Predictive imputation\n",
    "from sklearn.ensemble import RandomForestClassifier\n",
    "def data_cleaning_Y_Train(X_train, y_train):\n",
    "    # Combine X_train and y_train into one DataFrame\n",
    "    df_train = pd.concat([X_train, y_train], axis=1)\n",
    "    \n",
    "    # Split the dataset into observations with and without missing values\n",
    "    df_missing = df_train[df_train['Reviewer_Score'].isnull()]\n",
    "    df_not_missing = df_train[~df_train['Reviewer_Score'].isnull()]\n",
    "\n",
    "    # Separate the target variable from the other features\n",
    "    X = df_not_missing.drop('Reviewer_Score', axis=1)\n",
    "    y = df_not_missing['Reviewer_Score']\n",
    "\n",
    "    # Train a random forest classifier on the training set\n",
    "    rf = RandomForestClassifier(n_estimators=100, random_state=42)\n",
    "    rf.fit(X, y)\n",
    "\n",
    "    # Predict the missing target values using the trained random forest classifier\n",
    "    missing_pred = rf.predict(df_missing.drop('Reviewer_Score', axis=1))\n",
    "\n",
    "    # Impute the missing target values in the training set with the predicted values\n",
    "    df_train.loc[df_train['Reviewer_Score'].isnull(), 'Reviewer_Score'] = missing_pred\n",
    "\n",
    "    # Separate the imputed target variable from the other features\n",
    "    y_train = df_train['Reviewer_Score']\n",
    "    X_train = df_train.drop('Reviewer_Score', axis=1)\n",
    "\n",
    "    return X_train, y_train,rf\n",
    "\n",
    "def data_cleaning_Y_Test(X_test, y_test, rf):\n",
    "    # Combine X_test and y_test into one DataFrame\n",
    "    df_test = pd.concat([X_test, y_test], axis=1)\n",
    "    \n",
    "    # Split the dataset into observations with and without missing values\n",
    "    df_missing = df_test[df_test['Reviewer_Score'].isnull()]\n",
    "    df_not_missing = df_test[~df_test['Reviewer_Score'].isnull()]\n",
    "\n",
    "    # Separate the target variable from the other features\n",
    "    X = df_not_missing.drop('Reviewer_Score', axis=1)\n",
    "\n",
    "    # Predict the missing target values using the trained random forest classifier\n",
    "    missing_pred = rf.predict(X)\n",
    "\n",
    "    # Impute the missing target values in the test set with the predicted values\n",
    "    df_test.loc[df_test['Reviewer_Score'].isnull(), 'Reviewer_Score'] = missing_pred\n",
    "\n",
    "    # Separate the imputed target variable from the other features\n",
    "    y_test = df_test['Reviewer_Score']\n",
    "    X_test = df_test.drop('Reviewer_Score', axis=1)\n",
    "\n",
    "    return X_test, y_test\n",
    "\n",
    "\n",
    " from collections import defaultdict\n",
    " class Label_Encoder:\n",
    "        def __init__(self):\n",
    "            self.label_dict = defaultdict(int)\n",
    "            self.label_count = 0\n",
    "\n",
    "        def Fit_Or_Transform(self,labels):\n",
    "            \n",
    "            transformed = np.zeros(len(labels), dtype=int)\n",
    "\n",
    "            for i, label in enumerate(labels):\n",
    "                if label in self.label_dict:\n",
    "                    transformed[i] = self.label_dict[label]\n",
    "                else:\n",
    "                    self.label_dict[label] = self.label_count\n",
    "                    self.label_count += 1\n",
    "                    transformed[i] = self.label_dict[label]\n",
    "\n",
    "            return transformed\n",
    "\n",
    "\n",
    "\n",
    "def data_encoding_X_Train(X_train):\n",
    "    # Creating a instance of label Encoder.\n",
    "    le = Label_Encoder()\n",
    "    # printing label For (X_train) \"Fit\" and \"Transform\"\n",
    "    X_train['Hotel_Name'] = le.Fit_Or_Transform(X_train['Hotel_Name'])\n",
    "    X_train['Hotel_Address'] = le.Fit_Or_Transform(X_train['Hotel_Address'])\n",
    "    X_train['Reviewer_Nationality'] = le.Fit_Or_Transform(X_train['Reviewer_Nationality'])\n",
    "    X_train['Trip'] = le.Fit_Or_Transform(X_train['Trip'])\n",
    "    X_train['Members'] = le.Fit_Or_Transform(X_train['Members'])\n",
    "    X_train['Submission'] = le.Fit_Or_Transform(X_train['Submission'])\n",
    "    X_train['Room'] = le.Fit_Or_Transform(X_train['Room'])\n",
    "    \n",
    "    return X_train,le\n",
    "\n",
    "    \n",
    "def data_encoding_X_Test(X_test,le):\n",
    "\n",
    "    # printing label For (X_test) \"Already Fitted\" just \"Transform\"\n",
    "    X_test['Hotel_Name'] = le.Fit_Or_Transform(X_test['Hotel_Name'])\n",
    "    X_test['Hotel_Address'] = le.Fit_Or_Transform(X_test['Hotel_Address'])\n",
    "    X_test['Reviewer_Nationality'] = le.Fit_Or_Transform(X_test['Reviewer_Nationality'])\n",
    "    X_test['Trip'] = le.Fit_Or_Transform(X_test['Trip'])\n",
    "    X_test['Members'] = le.Fit_Or_Transform(X_test['Members'])\n",
    "    X_test['Submission'] = le.Fit_Or_Transform(X_test['Submission'])\n",
    "    X_test['Room'] = le.Fit_Or_Transform(X_test['Room'])\n",
    "\n",
    "    return X_test\n",
    "\n",
    "def data_encoding_Y_Train(y_train):\n",
    "    #the predict Column\n",
    "    \n",
    "    # Oridinal Encoding\n",
    "    categories_order = ['Low_Reviewer_Score', 'Intermediate_Reviewer_Score','High_Reviewer_Score']\n",
    "    # create an instance of OrdinalEncoder with the defined categories order\n",
    "    ordinal_encoder = OrdinalEncoder(categories=[categories_order])\n",
    "    # encode the data using the ordinal encoder (y_Train) \"Fit\" and \"Transform\"\n",
    "    y_train_encoded = ordinal_encoder.fit_transform(y_train.values.reshape(-1, 1))\n",
    "    y_train_encoded = pd.Series(y_train_encoded.reshape(-1), index= y_train.index)\n",
    "\n",
    "    return y_train_encoded,ordinal_encoder\n",
    "\n",
    "def data_encoding_Y_Test(y_test,ordinal_encoder):\n",
    "    \n",
    "    # encode the data using the ordinal encoder (y_Test) \"already Fitted\" just \"Transform\"\n",
    "    y_test_encoded = ordinal_encoder.transform(y_test.values.reshape(-1, 1))\n",
    "    y_test_encoded = pd.Series(y_test_encoded.reshape(-1), index= y_test.index)\n",
    "\n",
    "    return y_test_encoded"
   ]
  },
  {
   "cell_type": "markdown",
   "id": "37bd61d0-2965-4560-9320-7534b865e076",
   "metadata": {
    "jp-MarkdownHeadingCollapsed": true,
    "tags": []
   },
   "source": [
    "## Scaling"
   ]
  },
  {
   "cell_type": "code",
   "execution_count": 16,
   "id": "e91b9463-3bbc-4223-b103-84aacf818d39",
   "metadata": {
    "execution": {
     "iopub.execute_input": "2023-05-22T00:20:15.446131Z",
     "iopub.status.busy": "2023-05-22T00:20:15.446131Z",
     "iopub.status.idle": "2023-05-22T00:20:15.462137Z",
     "shell.execute_reply": "2023-05-22T00:20:15.462137Z",
     "shell.execute_reply.started": "2023-05-22T00:20:15.446131Z"
    },
    "tags": []
   },
   "outputs": [],
   "source": [
    "def standard(x):\n",
    "    scaler = StandardScaler()\n",
    "    cols=x.columns\n",
    "    x = scaler.fit_transform(x)  # calc mean and standard division\n",
    "    x = pd.DataFrame(x, columns= cols)\n",
    "    return x,scaler\n",
    "\n",
    "def norm(x):\n",
    "    scaler = MinMaxScaler()\n",
    "    cols=x.columns\n",
    "    scaler.fit_transform(x)  # calc X_max and X_min\n",
    "    # # X_norm = (X_old - X_min) / (X_max - X_min)\n",
    "    x = pd.DataFrame(x, columns= cols)\n",
    "    return x,scaler\n",
    "\n",
    "def scaling(x, IsTrain,IsStandard=None,scaler=None):\n",
    "    if (IsTrain == True):\n",
    "        if (IsStandard == True):\n",
    "            x,scaler = standard(x)\n",
    "        else:\n",
    "            x,scaler = norm(x)        \n",
    "        return x,scaler\n",
    "    \n",
    "    else: # this is test\n",
    "        cols = x.columns\n",
    "        x = scaler.transform(x)  # calc mean and standard division (Standard) Or calc X_max and X_min (Norm)\n",
    "        x = pd.DataFrame(x, columns= cols)\n",
    "        return x"
   ]
  },
  {
   "cell_type": "markdown",
   "id": "29b3416e-040e-4ef8-b617-8c23576d7880",
   "metadata": {
    "jp-MarkdownHeadingCollapsed": true,
    "tags": []
   },
   "source": [
    "## Handle Outliers"
   ]
  },
  {
   "cell_type": "code",
   "execution_count": 17,
   "id": "ab9e5e2c-6abb-4d38-a1c6-8f307f8f7669",
   "metadata": {
    "execution": {
     "iopub.execute_input": "2023-05-22T00:20:15.462137Z",
     "iopub.status.busy": "2023-05-22T00:20:15.462137Z",
     "iopub.status.idle": "2023-05-22T00:20:15.478156Z",
     "shell.execute_reply": "2023-05-22T00:20:15.478156Z",
     "shell.execute_reply.started": "2023-05-22T00:20:15.462137Z"
    }
   },
   "outputs": [],
   "source": [
    "def trimming(data, name, upper_limit, lower_limit):\n",
    "    update_data = data.loc[(data[name] <= upper_limit) & (data[name] >= lower_limit)]\n",
    "    return update_data\n",
    "\n",
    "def capping(data, name, upper_limit, lower_limit):\n",
    "    new_data = data.copy()\n",
    "    new_data.loc[data[name] > upper_limit, name] = upper_limit\n",
    "    new_data.loc[data[name] < lower_limit, name] = lower_limit\n",
    "    return new_data\n",
    "\n",
    "def IQR(data, type):\n",
    "    # method2 : IQR\n",
    "    n = len(data.columns)\n",
    "    for i in range(n):\n",
    "        name = data.columns[i]\n",
    "        q1 = data[name].quantile(0.25)\n",
    "        q3 = data[name].quantile(0.75)\n",
    "        iqr = q3 - q1\n",
    "        upper_limit = q3 + 1.5 * iqr\n",
    "        lower_limit = q1 - 1.5 * iqr\n",
    "        # rmoval function\n",
    "        if (type == 1):\n",
    "            data = capping(data, name, upper_limit, lower_limit)\n",
    "        elif (type == 2):\n",
    "            data = trimming(data, name, upper_limit, lower_limit)\n",
    "    return data\n",
    "\n",
    "def z_score(data, type):\n",
    "    n = len(data.columns)\n",
    "    for i in range(n):\n",
    "        name = data.columns[i]\n",
    "        upper_limit = data[name].mean() + 3 * data[name].std()\n",
    "        lower_limit = data[name].mean() - 3 * data[name].std()\n",
    "        # rmoval function\n",
    "        if (type == 1):\n",
    "            data = capping(data, name, upper_limit, lower_limit)\n",
    "        elif (type == 2):\n",
    "            data = trimming(data, name, upper_limit, lower_limit)\n",
    "    return data\n",
    "\n",
    "def percentile(data, type):\n",
    "    # method2 : IQR\n",
    "    n = len(data.columns)\n",
    "    for i in range(n):\n",
    "        name = data.columns[i]\n",
    "        upper_limit = data[name].quantile(0.99)\n",
    "        lower_limit = data[name].quantile(0.01)\n",
    "        # rmoval function\n",
    "        if (type == 1):\n",
    "            data = capping(data, name, upper_limit, lower_limit)\n",
    "        elif (type == 2):\n",
    "            data = trimming(data, name, upper_limit, lower_limit)\n",
    "    return data\n",
    "\n",
    "def handle_outliers(data, method, type):\n",
    "    if (method == 'iqr'):\n",
    "        data = IQR(data, type)\n",
    "    elif (method == 'p'):\n",
    "        data = percentile(data, type)\n",
    "    elif (method == 'z'):\n",
    "        data = z_score(data, type)\n",
    "    return data"
   ]
  },
  {
   "cell_type": "markdown",
   "id": "61383904-432e-419e-b497-7eedb13abc8b",
   "metadata": {
    "jp-MarkdownHeadingCollapsed": true,
    "tags": []
   },
   "source": [
    "## Feature Selection "
   ]
  },
  {
   "cell_type": "code",
   "execution_count": 25,
   "id": "b38fcec5-6ccf-4d4a-ae6a-ebed56fe5528",
   "metadata": {
    "execution": {
     "iopub.execute_input": "2023-05-22T00:20:15.593092Z",
     "iopub.status.busy": "2023-05-22T00:20:15.593092Z",
     "iopub.status.idle": "2023-05-22T00:20:15.609119Z",
     "shell.execute_reply": "2023-05-22T00:20:15.609119Z",
     "shell.execute_reply.started": "2023-05-22T00:20:15.593092Z"
    },
    "tags": []
   },
   "outputs": [],
   "source": [
    "from sklearn.feature_selection import VarianceThreshold\n",
    "\n",
    "def ANOVA_ftest(x, y):\n",
    "    fs = SelectKBest(score_func=f_classif, k=4)\n",
    "    # fs = SelectKBest(score_func=mutual_info_classif, k=4)\n",
    "    fs.fit(x, y.values.ravel())\n",
    "    # transform train input data\n",
    "    X_train_fs = fs.transform(x)\n",
    "    np.seterr(invalid='ignore')\n",
    "    for i in range(len(fs.scores_)):\n",
    "        print('Feature %d: %f' % (i, fs.scores_[i]))\n",
    "    selected_features = x.columns[fs.get_support()]\n",
    "    x = x[selected_features]\n",
    "    return x, y\n",
    "\n",
    "def feature_selection(x, y):\n",
    "    constant_filter = VarianceThreshold(threshold=0)\n",
    "\n",
    "    # Fit and transforming on train data\n",
    "    data_constant = constant_filter.fit_transform(x)\n",
    "\n",
    "    # Extracting all constant columns using get support function of our filter\n",
    "    constant_columns = [column for column in x.columns if column not in x.columns[constant_filter.get_support()]]\n",
    "    x = x.drop(constant_columns, axis=1)\n",
    "    qcons_filter = VarianceThreshold(threshold=0.01)\n",
    "\n",
    "    # Fit and transforming on train data\n",
    "    data_qcons = qcons_filter.fit_transform(x)\n",
    "\n",
    "    # Extracting all Quasi constant columns using get support function of our filter\n",
    "    qcons_columns = [column for column in x.columns if column not in x.columns[qcons_filter.get_support()]]\n",
    "    x = x.drop(qcons_columns, axis=1)\n",
    "\n",
    "    # check duplicated\n",
    "    '''data_qcons_t = x.T\n",
    "    data_qcons_t.shape\n",
    "    x = data_qcons_t.drop_duplicates(keep='first').T'''\n",
    "    # x = x.astype('int')\n",
    "    x, y = ANOVA_ftest(x, y)\n",
    "    return x, y"
   ]
  },
  {
   "cell_type": "markdown",
   "id": "f8bd24e5-dd06-4949-ab75-f28a1449c18f",
   "metadata": {
    "tags": []
   },
   "source": [
    "# Save & Load Model"
   ]
  },
  {
   "cell_type": "code",
   "execution_count": null,
   "id": "6b0705c4-3ea7-4112-922d-369a717d4bd4",
   "metadata": {
    "execution": {
     "iopub.execute_input": "2023-05-22T00:20:15.625135Z",
     "iopub.status.busy": "2023-05-22T00:20:15.625135Z",
     "iopub.status.idle": "2023-05-22T00:20:15.633933Z",
     "shell.execute_reply": "2023-05-22T00:20:15.633933Z",
     "shell.execute_reply.started": "2023-05-22T00:20:15.625135Z"
    },
    "tags": []
   },
   "outputs": [],
   "source": [
    "def save_model(model, filename):\n",
    "    filename ='Models'+'/'+ filename\n",
    "    # Check if the file exists\n",
    "    if os.path.exists(filename):\n",
    "        # oberwrite the model to file\n",
    "        joblib.dump(model, filename)\n",
    "        print(f\"Model Overwrited to '{filename}'.\")\n",
    "    else:\n",
    "        # Save the model to file\n",
    "        joblib.dump(model, filename)\n",
    "        print(f\"Model saved to '{filename}'.\")\n",
    "\n",
    "def load_model(filename):\n",
    "    filename ='Models'+'/'+ filename\n",
    "    # Check if the file exists\n",
    "    if os.path.exists(filename):\n",
    "        # Load the model from file\n",
    "        model = joblib.load(filename)\n",
    "        print(f\"Model loaded from '{filename}'.\")\n",
    "        return model\n",
    "    else:\n",
    "        print(f\"File '{filename}' does not exist.\")\n",
    "        return None"
   ]
  },
  {
   "cell_type": "markdown",
   "id": "774f9144-8a9b-434b-8033-72f8bb82f0d1",
   "metadata": {
    "execution": {
     "iopub.execute_input": "2023-05-21T05:58:22.795586Z",
     "iopub.status.busy": "2023-05-21T05:58:22.795586Z",
     "iopub.status.idle": "2023-05-21T05:58:22.809069Z",
     "shell.execute_reply": "2023-05-21T05:58:22.809069Z",
     "shell.execute_reply.started": "2023-05-21T05:58:22.795586Z"
    },
    "tags": []
   },
   "source": [
    "# Accuracy & Confusion Matrix"
   ]
  },
  {
   "cell_type": "code",
   "execution_count": 29,
   "id": "b6347792-ad61-4b00-8c6e-517de93f0991",
   "metadata": {
    "execution": {
     "iopub.execute_input": "2023-05-22T00:20:15.649268Z",
     "iopub.status.busy": "2023-05-22T00:20:15.649268Z",
     "iopub.status.idle": "2023-05-22T00:20:15.665269Z",
     "shell.execute_reply": "2023-05-22T00:20:15.665269Z",
     "shell.execute_reply.started": "2023-05-22T00:20:15.649268Z"
    },
    "tags": []
   },
   "outputs": [],
   "source": [
    "def Print_Accuracy(model,X_data,y_data,data_name):\n",
    "    print(\"--------------------------------------------------\")\n",
    "    # Use the classifier to make predictions on the test data\n",
    "    predictions = model.predict(X_data)\n",
    "    accuracy = accuracy_score(y_data , predictions)\n",
    "    print(f\"{str(model)}: {data_name} accuracy: {accuracy:.2%}\")\n",
    "    print(\"--------------------------------------------------\")\n",
    "    return predictions\n",
    "\n",
    "def Display_Confusion_Matrix(y_data, predictions_data,model_name):\n",
    "    ### import seaborn as sns\n",
    "    from sklearn.metrics import confusion_matrix\n",
    "    import matplotlib.pyplot as plt\n",
    "    \n",
    "    # Compute the confusion matrix\n",
    "    cm = confusion_matrix(y_data, predictions_data)\n",
    "\n",
    "    # Plot the confusion matrix as a heatmap\n",
    "    sns.heatmap(cm, annot=True, cmap=\"Blues\", fmt=\"d\")\n",
    "    plt.xlabel(\"Predicted label\")\n",
    "    plt.ylabel(\"True label\")\n",
    "    plt.title(model_name)\n",
    "    plt.show()\n",
    "    return"
   ]
  },
  {
   "cell_type": "markdown",
   "id": "5a963ca9-d0f4-45c9-9771-55316a205d82",
   "metadata": {
    "tags": []
   },
   "source": [
    "# Preprocess Train Data"
   ]
  },
  {
   "cell_type": "code",
   "execution_count": 30,
   "id": "b37d2784-4e51-4383-8760-aa4e70a4342c",
   "metadata": {
    "execution": {
     "iopub.execute_input": "2023-05-22T00:20:15.665269Z",
     "iopub.status.busy": "2023-05-22T00:20:15.665269Z",
     "iopub.status.idle": "2023-05-22T00:21:40.317447Z",
     "shell.execute_reply": "2023-05-22T00:21:40.317447Z",
     "shell.execute_reply.started": "2023-05-22T00:20:15.665269Z"
    },
    "tags": []
   },
   "outputs": [
    {
     "name": "stdout",
     "output_type": "stream",
     "text": [
      "Model Overwrited to 'Mean List.pkl'.\n",
      "Model Overwrited to 'Label Encoder.pkl'.\n",
      "Model Overwrited to 'Filling Missing Values_RF.pkl'.\n",
      "Model Overwrited to 'Ordinal Encoder.pkl'.\n",
      "Model Overwrited to 'Standard Scaler.pkl'.\n",
      "Feature 0: 97.584116\n",
      "Feature 1: 149.578975\n",
      "Feature 2: 8051.581057\n",
      "Feature 3: 98.450692\n",
      "Feature 4: 302.616914\n",
      "Feature 5: 10041.056463\n",
      "Feature 6: 338.937412\n",
      "Feature 7: 4341.123787\n",
      "Feature 8: 101.112258\n",
      "Feature 9: 13.502812\n",
      "Feature 10: 64.594320\n",
      "Feature 11: 51.326713\n",
      "Feature 12: 4034.526292\n",
      "Feature 13: 4292.951277\n",
      "Feature 14: 20.316012\n",
      "Feature 15: 63.988713\n",
      "Feature 16: 0.198119\n",
      "Feature 17: 289.874194\n",
      "Feature 18: 13.272485\n",
      "Feature 19: 16.058170\n",
      "Feature 20: 57.046971\n",
      "Model Overwrited to 'Train_Cols_Feature_Selection.pkl'.\n"
     ]
    }
   ],
   "source": [
    "# Apply Sentiment Analysis\n",
    "X_train = apply_sentiment(X_train)\n",
    "\n",
    "# Clean data and Handle missing values\n",
    "X_train,mean_list = data_cleaning_X_Train(X_train)\n",
    "save_model(mean_list, 'Mean List.pkl')\n",
    "\n",
    "# Encoding Some Features With Label Encoding\n",
    "X_train,le = data_encoding_X_Train(X_train)\n",
    "save_model(le, 'Label Encoder.pkl')\n",
    "\n",
    "#Drop 'Positive_Review' & 'Negative_Review' In X_Train\n",
    "X_train = X_train.drop(['Positive_Review'], axis=1)\n",
    "X_train = X_train.drop(['Negative_Review'], axis=1)\n",
    "\n",
    "# Handle Missing Value of The Reviewer_Score (y_train)  Classifier with Random Forset\n",
    "X_train,y_train,rf = data_cleaning_Y_Train(X_train,y_train)\n",
    "save_model(rf, 'Filling Missing Values_RF.pkl')\n",
    "\n",
    "# Encoding The Reviewer_Score (y_train)  With Ordinal Encoder\n",
    "y_train,ordinal_encoder = data_encoding_Y_Train(y_train)\n",
    "save_model(ordinal_encoder, 'Ordinal Encoder.pkl')\n",
    "\n",
    "# Handle Outliers\n",
    "X_train = handle_outliers(X_train, 'iqr', 1)\n",
    "\n",
    "#Scaling X_Train\n",
    "X_train,scaler=scaling(X_train,IsTrain=True, IsStandard=True) # First: True is X_train ,, Second: True -> is (Standard) or not -> (Norm)\n",
    "save_model(scaler, 'Standard Scaler.pkl')\n",
    "\n",
    "# select the most effiective Features\n",
    "X_train, y_train = feature_selection(X_train, y_train)\n",
    "y_train=y_train.values\n",
    "# reshape a 1D numpy array into a 2D numpy array. \n",
    "y_train = y_train[:, np.newaxis]\n",
    "save_model(X_train.columns, 'Train_Cols_Feature_Selection.pkl')\n"
   ]
  },
  {
   "cell_type": "markdown",
   "id": "3bfdae17-1666-4372-971d-6b40eac4dbe8",
   "metadata": {
    "jp-MarkdownHeadingCollapsed": true,
    "tags": []
   },
   "source": [
    "# Models"
   ]
  },
  {
   "cell_type": "markdown",
   "id": "cb62057d-6816-4c60-b7fc-b91e1faa5e1d",
   "metadata": {
    "tags": []
   },
   "source": [
    "## SVM Model"
   ]
  },
  {
   "cell_type": "code",
   "execution_count": 31,
   "id": "008dd8df-16ca-4fd8-8db8-f51fe24dd3f7",
   "metadata": {
    "execution": {
     "iopub.execute_input": "2023-05-22T00:21:40.317447Z",
     "iopub.status.busy": "2023-05-22T00:21:40.317447Z",
     "iopub.status.idle": "2023-05-22T00:21:40.333449Z",
     "shell.execute_reply": "2023-05-22T00:21:40.333449Z",
     "shell.execute_reply.started": "2023-05-22T00:21:40.317447Z"
    },
    "tags": []
   },
   "outputs": [
    {
     "data": {
      "text/plain": [
       "'\\nfrom sklearn import svm\\n\\n# Create an SVM classifier\\nc = 0.001; #Svm Regularzition Parameter \\nsvm = svm.SVC(kernel=\\'poly\\',degree=5)\\n\\n# Fit the classifier to the training data\\nstart = time.perf_counter()\\nsvm.fit(X_train, y_train.ravel())\\nend = time.perf_counter()\\nprint(\"SVM Model Time  : \" + str(end - start) + \" sec\")\\n\\n# Save model to file\\nsave_model(svm, \\'SVM_Model.pkl\\')\\n\\n# Calculate accuracy on train data\\npredictions_train=Print_Accuracy(svm,X_train,y_train,data_name=train)\\n\\n# Compute the confusion matrix (Test) \\nDisplay_Confusion_Matrix(y_data= y_train, predictions_data= predictions_train ,model_name= \"SVM_Model\")\\n'"
      ]
     },
     "execution_count": 31,
     "metadata": {},
     "output_type": "execute_result"
    }
   ],
   "source": [
    "'''\n",
    "from sklearn import svm\n",
    "\n",
    "# Create an SVM classifier\n",
    "c = 0.001; #Svm Regularzition Parameter \n",
    "svm = svm.SVC(kernel='poly',degree=5)\n",
    "\n",
    "# Fit the classifier to the training data\n",
    "start = time.perf_counter()\n",
    "svm.fit(X_train, y_train.ravel())\n",
    "end = time.perf_counter()\n",
    "print(\"SVM Model Time  : \" + str(end - start) + \" sec\")\n",
    "\n",
    "# Save model to file\n",
    "save_model(svm, 'SVM_Model.pkl')\n",
    "\n",
    "# Calculate accuracy on train data\n",
    "predictions_train=Print_Accuracy(svm,X_train,y_train,data_name=train)\n",
    "\n",
    "# Compute the confusion matrix (Test) \n",
    "Display_Confusion_Matrix(y_data= y_train, predictions_data= predictions_train ,model_name= \"SVM_Model\")\n",
    "'''\n",
    "\n"
   ]
  },
  {
   "cell_type": "markdown",
   "id": "cbb2c26b-4455-410a-a671-45a3e8646c42",
   "metadata": {
    "tags": []
   },
   "source": [
    "## Logistic Regression Model"
   ]
  },
  {
   "cell_type": "code",
   "execution_count": 32,
   "id": "490c5409-263e-4c05-94d9-9b1153f9a725",
   "metadata": {
    "execution": {
     "iopub.execute_input": "2023-05-22T00:21:40.333449Z",
     "iopub.status.busy": "2023-05-22T00:21:40.333449Z",
     "iopub.status.idle": "2023-05-22T00:21:41.070025Z",
     "shell.execute_reply": "2023-05-22T00:21:41.070025Z",
     "shell.execute_reply.started": "2023-05-22T00:21:40.333449Z"
    },
    "tags": []
   },
   "outputs": [
    {
     "name": "stdout",
     "output_type": "stream",
     "text": [
      "Logistic Regress Model Time  : 0.34952400001930073 sec\n",
      "Model Overwrited to 'Logistic_Regress.pkl'.\n",
      "--------------------------------------------------\n",
      "train accuracy: 70.83%\n",
      "--------------------------------------------------\n"
     ]
    },
    {
     "data": {
      "image/png": "[encoded data removed]",
      "text/plain": [
       "<Figure size 640x480 with 2 Axes>"
      ]
     },
     "metadata": {},
     "output_type": "display_data"
    }
   ],
   "source": [
    "# Create a Logistic Regression classifier\n",
    "lr = LogisticRegression(max_iter=1000)\n",
    "\n",
    "# Fit the classifier to the training data\n",
    "start = time.perf_counter()\n",
    "lr.fit(X_train, y_train.ravel())\n",
    "end = time.perf_counter()\n",
    "print(\"Logistic Regress Model Time  : \" + str(end - start) + \" sec\")\n",
    "\n",
    "# Save model to file\n",
    "save_model(lr, 'Logistic_Regress.pkl')\n",
    "\n",
    "# Calculate accuracy on train data\n",
    "predictions_train=Print_Accuracy(lr,X_train,y_train,data_name=\"train\")\n",
    "\n",
    "# Compute the confusion matrix (Test) \n",
    "Display_Confusion_Matrix(y_data= y_train, predictions_data= predictions_train ,model_name= \"Logistic Regress Model\")"
   ]
  },
  {
   "cell_type": "markdown",
   "id": "a21e4ae0-fa7f-4fd5-99ce-87c5fcdad79e",
   "metadata": {
    "tags": []
   },
   "source": [
    "## Decision Tree Model"
   ]
  },
  {
   "cell_type": "code",
   "execution_count": 33,
   "id": "a2301969-23f1-4688-9581-c94d0244001d",
   "metadata": {
    "execution": {
     "iopub.execute_input": "2023-05-22T00:21:41.070025Z",
     "iopub.status.busy": "2023-05-22T00:21:41.070025Z",
     "iopub.status.idle": "2023-05-22T00:21:41.604858Z",
     "shell.execute_reply": "2023-05-22T00:21:41.604858Z",
     "shell.execute_reply.started": "2023-05-22T00:21:41.070025Z"
    }
   },
   "outputs": [
    {
     "name": "stdout",
     "output_type": "stream",
     "text": [
      "Decision Trees Model Time  : 0.16876669999328442 sec\n",
      "Model Overwrited to 'Decision_Tree.pkl'.\n",
      "--------------------------------------------------\n",
      "train accuracy: 71.78%\n",
      "--------------------------------------------------\n"
     ]
    },
    {
     "data": {
      "image/png": "[encoded data removed]",
      "text/plain": [
       "<Figure size 640x480 with 2 Axes>"
      ]
     },
     "metadata": {},
     "output_type": "display_data"
    }
   ],
   "source": [
    "from sklearn.tree import DecisionTreeClassifier\n",
    "\n",
    "# Create an instance of the DecisionTreeClassifier class\n",
    "dt = DecisionTreeClassifier(max_depth=10, min_samples_split=500)\n",
    "\n",
    "# Fit the classifier to the training data\n",
    "start = time.perf_counter()\n",
    "dt.fit(X_train, y_train)\n",
    "end = time.perf_counter()\n",
    "print(\"Decision Trees Model Time  : \" + str(end - start) + \" sec\")\n",
    "\n",
    "# Save model to file\n",
    "save_model(dt, 'Decision_Tree.pkl')\n",
    "\n",
    "# Calculate accuracy on train data\n",
    "predictions_train=Print_Accuracy(dt,X_train,y_train,data_name=\"train\")\n",
    "\n",
    "# Compute the confusion matrix (Test) \n",
    "Display_Confusion_Matrix(y_data= y_train, predictions_data= predictions_train ,model_name= \"Decision_Tree Model\")"
   ]
  },
  {
   "cell_type": "markdown",
   "id": "cbd79f18-389f-4e6d-8bfb-26328282dd24",
   "metadata": {
    "tags": []
   },
   "source": [
    "## RandomForestClassifier"
   ]
  },
  {
   "cell_type": "code",
   "execution_count": 34,
   "id": "ae9f600d-dfa4-4750-b292-6f645d176637",
   "metadata": {
    "execution": {
     "iopub.execute_input": "2023-05-22T00:21:41.604858Z",
     "iopub.status.busy": "2023-05-22T00:21:41.604858Z",
     "iopub.status.idle": "2023-05-22T00:21:50.643994Z",
     "shell.execute_reply": "2023-05-22T00:21:50.643994Z",
     "shell.execute_reply.started": "2023-05-22T00:21:41.604858Z"
    }
   },
   "outputs": [
    {
     "name": "stdout",
     "output_type": "stream",
     "text": [
      "RandomForest Classifier Model Time  : 7.1980361999885645 sec\n",
      "Model Overwrited to 'RandomForestClassifier.pkl'.\n",
      "--------------------------------------------------\n",
      "train accuracy: 73.04%\n",
      "--------------------------------------------------\n"
     ]
    },
    {
     "data": {
      "image/png": "[encoded data removed]",
      "text/plain": [
       "<Figure size 640x480 with 2 Axes>"
      ]
     },
     "metadata": {},
     "output_type": "display_data"
    }
   ],
   "source": [
    "# Define the hyperparameters to try\n",
    "param_grid = {\n",
    "    'n_estimators': [50, 100, 200],\n",
    "    'max_depth': [5, 10, 20],\n",
    "    'min_samples_split': [2, 5, 10],\n",
    "    'min_samples_leaf': [1, 2, 4]\n",
    "}\n",
    "# Use grid search to find the best hyperparameters\n",
    "#grid_search = GridSearchCV(rf, param_grid, cv=5)\n",
    "#grid_search.fit(X_train, y_train.ravel())\n",
    "\n",
    "# Print the best hyperparameters and the corresponding score\n",
    "#print('Best hyperparameters:', grid_search.best_params_)\n",
    "#print('Best score:', grid_search.best_score_)\n",
    "\n",
    "# Use the best model to make predictions on the testing data\n",
    "#best_model = grid_search.best_estimator_\n",
    "#predictions_test = best_model.predict(X_test)\n",
    "\n",
    "# Create the random forest classifier with some hyperparameters\n",
    "#rf = RandomForestClassifier(max_depth= 10, min_samples_leaf= 4, min_samples_split= 10, n_estimators= 100)\n",
    "rf = RandomForestClassifier(n_estimators=100, max_depth=10)\n",
    "\n",
    "# Fit the random forest model to the training data\n",
    "start = time.perf_counter()\n",
    "rf.fit(X_train, y_train.ravel())\n",
    "end = time.perf_counter()\n",
    "print(\"RandomForest Classifier Model Time  : \" + str(end - start) + \" sec\")\n",
    "\n",
    "# Save model to file\n",
    "save_model(rf, 'RandomForestClassifier.pkl')\n",
    "\n",
    "# Calculate accuracy on train data\n",
    "predictions_train=Print_Accuracy(rf,X_train,y_train,data_name=\"train\")\n",
    "\n",
    "# Compute the confusion matrix (Test) \n",
    "Display_Confusion_Matrix(y_data= y_train, predictions_data= predictions_train ,model_name= \"RandomForestClassifier Model\")"
   ]
  },
  {
   "cell_type": "markdown",
   "id": "1e43e551-c096-4210-8fc4-c747a418354a",
   "metadata": {
    "tags": []
   },
   "source": [
    "# ================================"
   ]
  },
  {
   "cell_type": "markdown",
   "id": "931e4d0b-d4c9-4cef-be3a-7182f0bfc974",
   "metadata": {
    "tags": []
   },
   "source": [
    "# Test Script"
   ]
  },
  {
   "cell_type": "markdown",
   "id": "c922d918-4cc7-461f-bb40-d04ea60b65eb",
   "metadata": {
    "tags": []
   },
   "source": [
    "## Preparing The Test"
   ]
  },
  {
   "cell_type": "code",
   "execution_count": 35,
   "id": "bf52ee8f-d632-42ef-8a77-f504f0a4c0f9",
   "metadata": {
    "execution": {
     "iopub.execute_input": "2023-05-22T00:21:50.643994Z",
     "iopub.status.busy": "2023-05-22T00:21:50.643994Z",
     "iopub.status.idle": "2023-05-22T00:22:04.953828Z",
     "shell.execute_reply": "2023-05-22T00:22:04.953828Z",
     "shell.execute_reply.started": "2023-05-22T00:21:50.643994Z"
    },
    "tags": []
   },
   "outputs": [
    {
     "name": "stdout",
     "output_type": "stream",
     "text": [
      "Model loaded from 'Mean List.pkl'.\n",
      "Model loaded from 'Label Encoder.pkl'.\n",
      "Model loaded from 'Filling Missing Values_RF.pkl'.\n",
      "Model loaded from 'Ordinal Encoder.pkl'.\n",
      "Model loaded from 'Standard Scaler.pkl'.\n",
      "Model loaded from 'Train_Cols_Feature_Selection.pkl'.\n"
     ]
    }
   ],
   "source": [
    "# Read The Test Data\n",
    "#test_data = pd.read_csv('hotel-classification-dataset.csv')\n",
    "\n",
    "# set test_X & test_Y\n",
    "#y_test = data.iloc[:, 16]\n",
    "#X_test = data.iloc[:, 0:16]\n",
    "\n",
    "\n",
    "# Apply Sentiment Analysis\n",
    "X_test = apply_sentiment(X_test)\n",
    "\n",
    "# Clean data and Handle missing values\n",
    "load_mean_list= load_model('Mean List.pkl')\n",
    "X_test = data_cleaning_X_Test(X_test,load_mean_list)\n",
    "\n",
    "\n",
    "# Encoding Some Features With Label Encoding\n",
    "load_le= load_model('Label Encoder.pkl')\n",
    "X_test = data_encoding_X_Test(X_test,load_le)\n",
    "\n",
    "\n",
    "#Drop 'Positive_Review' & 'Negative_Review' In X_Test\n",
    "X_test = X_test.drop(['Positive_Review'], axis=1)\n",
    "X_test = X_test.drop(['Negative_Review'], axis=1)\n",
    "\n",
    "# Handle Missing Value of The Reviewer_Score  (y_test) Classifier with \n",
    "load_missing_rf= load_model('Filling Missing Values_RF.pkl')\n",
    "X_test,y_test = data_cleaning_Y_Test(X_test,y_test,load_missing_rf)\n",
    "\n",
    "# Encoding The Reviewer_Score  (y_test) With Ordinal Encoder\n",
    "load_ordinal_encoder= load_model('Ordinal Encoder.pkl')\n",
    "y_test = data_encoding_Y_Test(y_test,load_ordinal_encoder)\n",
    "\n",
    "# Handle Outliers\n",
    "X_test = handle_outliers(X_test, 'iqr', 1)\n",
    "\n",
    "#Scaling X_Test\n",
    "load_scaler= load_model('Standard Scaler.pkl')\n",
    "X_test=scaling(X_test,IsTrain= False,scaler= load_scaler) # False is X_test..\n",
    "\n",
    "# get column names of X_train\n",
    "#train_cols = X_train.columns\n",
    "train_cols = load_model('Train_Cols_Feature_Selection.pkl')\n",
    "\n",
    "# select only the columns present in X_train in X_test\n",
    "X_test = X_test.loc[:, train_cols]"
   ]
  },
  {
   "cell_type": "markdown",
   "id": "48afaa49-2784-4244-ac8f-a7b912543cef",
   "metadata": {
    "jp-MarkdownHeadingCollapsed": true,
    "tags": []
   },
   "source": [
    "## Calculate Accuracy On (Test)"
   ]
  },
  {
   "cell_type": "code",
   "execution_count": 36,
   "id": "981a096d-0692-41d1-a3bb-a2a4acded7b2",
   "metadata": {
    "execution": {
     "iopub.execute_input": "2023-05-22T00:22:04.953828Z",
     "iopub.status.busy": "2023-05-22T00:22:04.953828Z",
     "iopub.status.idle": "2023-05-22T00:22:06.078805Z",
     "shell.execute_reply": "2023-05-22T00:22:06.078805Z",
     "shell.execute_reply.started": "2023-05-22T00:22:04.953828Z"
    },
    "tags": []
   },
   "outputs": [
    {
     "name": "stderr",
     "output_type": "stream",
     "text": [
      "C:\\Users\\kirlo\\anaconda3\\lib\\site-packages\\sklearn\\base.py:299: UserWarning: Trying to unpickle estimator SVC from version 1.0.2 when using version 1.2.1. This might lead to breaking code or invalid results. Use at your own risk. For more info please refer to:\n",
      "https://scikit-learn.org/stable/model_persistence.html#security-maintainability-limitations\n",
      "  warnings.warn(\n"
     ]
    },
    {
     "name": "stdout",
     "output_type": "stream",
     "text": [
      "Model loaded from 'SVM_Model.pkl'.\n",
      "Model loaded from 'Logistic_Regress.pkl'.\n",
      "Model loaded from 'Decision_Tree.pkl'.\n",
      "Model loaded from 'RandomForestClassifier.pkl'.\n",
      "--------------------------------------------------\n",
      "test accuracy: 71.47%\n",
      "--------------------------------------------------\n"
     ]
    },
    {
     "data": {
      "image/png": "[encoded data removed]",
      "text/plain": [
       "<Figure size 640x480 with 2 Axes>"
      ]
     },
     "metadata": {},
     "output_type": "display_data"
    },
    {
     "name": "stdout",
     "output_type": "stream",
     "text": [
      "--------------------------------------------------\n",
      "test accuracy: 71.46%\n",
      "--------------------------------------------------\n"
     ]
    },
    {
     "data": {
      "image/png": "[encoded data removed]",
      "text/plain": [
       "<Figure size 640x480 with 2 Axes>"
      ]
     },
     "metadata": {},
     "output_type": "display_data"
    },
    {
     "name": "stdout",
     "output_type": "stream",
     "text": [
      "--------------------------------------------------\n",
      "test accuracy: 72.02%\n",
      "--------------------------------------------------\n"
     ]
    },
    {
     "data": {
      "image/png": "[encoded data removed]",
      "text/plain": [
       "<Figure size 640x480 with 2 Axes>"
      ]
     },
     "metadata": {},
     "output_type": "display_data"
    }
   ],
   "source": [
    "# Load the models\n",
    "loaded_svm = load_model('SVM_Model.pkl')\n",
    "load_lr = load_model('Logistic_Regress.pkl')\n",
    "loaded_dt= load_model('Decision_Tree.pkl')\n",
    "loaded_rf = load_model('RandomForestClassifier.pkl')\n",
    "\n",
    "# Calculate accuracy on test data && Confusion_Matrix\n",
    "\n",
    "#predictions_test=Print_Accuracy(loaded_svm,X_test,y_test,data_name=\"test\")\n",
    "#Display_Confusion_Matrix(y_data= y_test, predictions_data= predictions_test ,model_name= \"SVM_Model\")\n",
    "\n",
    "predictions_test=Print_Accuracy(load_lr,X_test,y_test,data_name=\"test\")\n",
    "Display_Confusion_Matrix(y_data= y_test, predictions_data= predictions_test ,model_name= \"Logistic Regress Model\")\n",
    "\n",
    "predictions_test=Print_Accuracy(loaded_dt,X_test,y_test,data_name=\"test\")\n",
    "Display_Confusion_Matrix(y_data= y_test, predictions_data= predictions_test ,model_name= \"Decision_Tree Model\")\n",
    "\n",
    "predictions_test=Print_Accuracy(loaded_rf,X_test,y_test,data_name=\"test\")\n",
    "Display_Confusion_Matrix(y_data= y_test, predictions_data= predictions_test ,model_name= \"RandomForestClassifier Model\")"
   ]
  }
 ],
 "metadata": {
  "kernelspec": {
   "display_name": "Python 3 (ipykernel)",
   "language": "python",
   "name": "python3"
  },
  "language_info": {
   "codemirror_mode": {
    "name": "ipython",
    "version": 3
   },
   "file_extension": ".py",
   "mimetype": "text/x-python",
   "name": "python",
   "nbconvert_exporter": "python",
   "pygments_lexer": "ipython3",
   "version": "3.10.9"
  }
 },
 "nbformat": 4,
 "nbformat_minor": 5
}
